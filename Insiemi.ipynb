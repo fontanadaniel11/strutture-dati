{
  "nbformat": 4,
  "nbformat_minor": 0,
  "metadata": {
    "colab": {
      "provenance": [],
      "include_colab_link": true
    },
    "kernelspec": {
      "name": "python3",
      "display_name": "Python 3"
    },
    "language_info": {
      "name": "python"
    }
  },
  "cells": [
    {
      "cell_type": "markdown",
      "metadata": {
        "id": "view-in-github",
        "colab_type": "text"
      },
      "source": [
        "<a href=\"https://colab.research.google.com/github/fontanadaniel11/strutture-dati/blob/main/Insiemi.ipynb\" target=\"_parent\"><img src=\"https://colab.research.google.com/assets/colab-badge.svg\" alt=\"Open In Colab\"/></a>"
      ]
    },
    {
      "cell_type": "markdown",
      "source": [
        "Gli insiemi sono un tipo di struttura dati di pyhton. \n",
        "Gli insiemi vengono utilizzati per memorizzare più elementi in una singola variabile."
      ],
      "metadata": {
        "id": "QfO13R7xIhuf"
      }
    },
    {
      "cell_type": "markdown",
      "source": [
        "Gli insiemi non sono ordinati, cioè che gli elementi presenti in essi non hanno un ordine definito."
      ],
      "metadata": {
        "id": "vViXjDHfJPxd"
      }
    },
    {
      "cell_type": "markdown",
      "source": [
        "Gli articoli del set non sono modificabili, il che significa che non possiamo modificare gli articoli dopo che il set è stato creato."
      ],
      "metadata": {
        "id": "YW9WdX82JjWv"
      }
    },
    {
      "cell_type": "markdown",
      "source": [
        "Non si possono inserire duplicati in un insieme."
      ],
      "metadata": {
        "id": "DHjzHdvwJpnt"
      }
    },
    {
      "cell_type": "markdown",
      "source": [
        "**creare un insieme**"
      ],
      "metadata": {
        "id": "ldaJopAnI4qu"
      }
    },
    {
      "cell_type": "code",
      "execution_count": null,
      "metadata": {
        "colab": {
          "base_uri": "https://localhost:8080/"
        },
        "id": "KobKSX_JIeNW",
        "outputId": "d0c8ee05-507b-4610-8283-170c92e3672a"
      },
      "outputs": [
        {
          "output_type": "stream",
          "name": "stdout",
          "text": [
            "{'juventus', 'milan', 'inter'}\n"
          ]
        }
      ],
      "source": [
        "insieme = {\"inter\", \"milan\", \"juventus\"}\n",
        "print(insieme)"
      ]
    },
    {
      "cell_type": "code",
      "source": [
        "#altro metodo per creare un insieme\n",
        "insieme2 = set([\"luca\",\"antonio\" ,\"riccardo\" ,\"valerio\"])\n",
        "print(insieme2) "
      ],
      "metadata": {
        "colab": {
          "base_uri": "https://localhost:8080/"
        },
        "id": "ddPhCqkkOhtl",
        "outputId": "2eb0fb0e-0165-4536-db0b-b641cc0d7c8f"
      },
      "execution_count": null,
      "outputs": [
        {
          "output_type": "stream",
          "name": "stdout",
          "text": [
            "{'riccardo', 'luca', 'antonio', 'valerio'}\n"
          ]
        }
      ]
    },
    {
      "cell_type": "code",
      "source": [
        "#provo a vedere se il programma riconosce l'insieme\n",
        "print(type(insieme))\n",
        "print(type(insieme2))"
      ],
      "metadata": {
        "colab": {
          "base_uri": "https://localhost:8080/"
        },
        "id": "L5Nyfx0mPDQl",
        "outputId": "4f155d93-4873-4605-d088-842999110e45"
      },
      "execution_count": null,
      "outputs": [
        {
          "output_type": "stream",
          "name": "stdout",
          "text": [
            "<class 'set'>\n",
            "<class 'set'>\n"
          ]
        }
      ]
    },
    {
      "cell_type": "markdown",
      "source": [
        "trovare la lunghezza di un insieme"
      ],
      "metadata": {
        "id": "crL44xtUKN6m"
      }
    },
    {
      "cell_type": "code",
      "source": [
        "len(insieme)"
      ],
      "metadata": {
        "colab": {
          "base_uri": "https://localhost:8080/"
        },
        "id": "qIpsPR2bKSrF",
        "outputId": "60e2cb85-ffdf-415b-b824-40e4fd881a90"
      },
      "execution_count": null,
      "outputs": [
        {
          "output_type": "execute_result",
          "data": {
            "text/plain": [
              "3"
            ]
          },
          "metadata": {},
          "execution_count": 8
        }
      ]
    },
    {
      "cell_type": "markdown",
      "source": [
        "creare un insieme con numeri interi"
      ],
      "metadata": {
        "id": "tiu63ozQNMl2"
      }
    },
    {
      "cell_type": "code",
      "source": [
        "insiemenumerico = {1, 2, 3, 4, 5}\n",
        "prova={i for i in range(10)}\n",
        "print(prova)\n",
        "print(insiemenumerico)"
      ],
      "metadata": {
        "colab": {
          "base_uri": "https://localhost:8080/"
        },
        "id": "FvrRGaUJNSF3",
        "outputId": "d3ba10ba-c5c8-4f7a-8782-4a9690ca7a2b"
      },
      "execution_count": null,
      "outputs": [
        {
          "output_type": "stream",
          "name": "stdout",
          "text": [
            "{0, 1, 2, 3, 4, 5, 6, 7, 8, 9}\n",
            "{1, 2, 3, 4, 5}\n"
          ]
        }
      ]
    },
    {
      "cell_type": "markdown",
      "source": [
        "creare un insieme misto"
      ],
      "metadata": {
        "id": "j9P86l0tNb1N"
      }
    },
    {
      "cell_type": "code",
      "source": [
        "#gli elementi booleani sono inserbili solo se non sono presenti 1 (true) o 0 (false), dato che non ci possono essere duplicati in un insieme\n",
        "insiememisto = {2, \"luca\", \"marco\", 45, True}\n",
        "print(insiememisto)"
      ],
      "metadata": {
        "colab": {
          "base_uri": "https://localhost:8080/"
        },
        "id": "S0Qpz5KNNhR1",
        "outputId": "6936eafd-7829-4ca4-f8f2-7ee1e6c2773f"
      },
      "execution_count": null,
      "outputs": [
        {
          "output_type": "stream",
          "name": "stdout",
          "text": [
            "{True, 2, 'luca', 45, 'marco'}\n"
          ]
        }
      ]
    },
    {
      "cell_type": "code",
      "source": [
        "insieme3 = {1, 2, 56, 1} #dentro questo insieme viene inserito solo un 1, dato che negli insiemi non possono essere inseriti duplicati\n",
        "print(insieme3)"
      ],
      "metadata": {
        "colab": {
          "base_uri": "https://localhost:8080/"
        },
        "id": "ToUUqnuiN7xs",
        "outputId": "5d42d4c6-3f4e-4fa4-c21b-76b6f8a9ab78"
      },
      "execution_count": null,
      "outputs": [
        {
          "output_type": "stream",
          "name": "stdout",
          "text": [
            "{56, 1, 2}\n"
          ]
        }
      ]
    },
    {
      "cell_type": "markdown",
      "source": [
        "**accedere agli elementi di un insieme**"
      ],
      "metadata": {
        "id": "3aVtCbb_OTON"
      }
    },
    {
      "cell_type": "code",
      "source": [
        "insieme4 = {\"playstation\", \"xbox\", \"computer\"}\n",
        "for elemento in insieme4:\n",
        "  print(elemento)\n",
        "#non è possibile accedere agli elementi di un insieme usando indici"
      ],
      "metadata": {
        "colab": {
          "base_uri": "https://localhost:8080/"
        },
        "id": "BHIha5S8Plus",
        "outputId": "299bcddd-32c9-496e-eded-d33fbd8a5535"
      },
      "execution_count": null,
      "outputs": [
        {
          "output_type": "stream",
          "name": "stdout",
          "text": [
            "xbox\n",
            "playstation\n",
            "computer\n"
          ]
        }
      ]
    },
    {
      "cell_type": "markdown",
      "source": [
        "capire se un elemento è presente in un insieme"
      ],
      "metadata": {
        "id": "f1P6erkvQreV"
      }
    },
    {
      "cell_type": "code",
      "source": [
        "\"xbox\" in insieme4"
      ],
      "metadata": {
        "colab": {
          "base_uri": "https://localhost:8080/"
        },
        "id": "UWNCqPnoQvuM",
        "outputId": "af3289ec-a4b9-47f7-8283-ea967a6bb2d9"
      },
      "execution_count": null,
      "outputs": [
        {
          "output_type": "execute_result",
          "data": {
            "text/plain": [
              "True"
            ]
          },
          "metadata": {},
          "execution_count": 21
        }
      ]
    },
    {
      "cell_type": "markdown",
      "source": [
        "**aggiungere elementi**"
      ],
      "metadata": {
        "id": "xjTH1Pf2Q7a0"
      }
    },
    {
      "cell_type": "code",
      "source": [
        "insieme5 = {\"ciao\", 56, True}\n",
        "print(insieme5)\n",
        "insieme5.add(\"francesco\")\n",
        "print(insieme5)"
      ],
      "metadata": {
        "colab": {
          "base_uri": "https://localhost:8080/"
        },
        "id": "KOM7ZsAuR0mW",
        "outputId": "7102cff0-150d-4abf-c017-6b42d00313e1"
      },
      "execution_count": null,
      "outputs": [
        {
          "output_type": "stream",
          "name": "stdout",
          "text": [
            "{56, True, 'ciao'}\n",
            "{56, True, 'ciao'}\n"
          ]
        }
      ]
    },
    {
      "cell_type": "markdown",
      "source": [
        "Per aggiungere elementi da un altro insieme nell'insieme in uso, utilizzare il update() metodo."
      ],
      "metadata": {
        "id": "QKDKOzXwSIkk"
      }
    },
    {
      "cell_type": "code",
      "source": [
        "insieme6 = {\"giorgia\", 78, 7}\n",
        "insieme7 = {\"poli\", \"loto\", \"simo\",7}\n",
        "insieme6.update(insieme7)\n",
        "print(insieme6)"
      ],
      "metadata": {
        "colab": {
          "base_uri": "https://localhost:8080/"
        },
        "id": "pyI2b17oSVo9",
        "outputId": "86afea85-72cd-4dca-d029-6cc112399d25"
      },
      "execution_count": null,
      "outputs": [
        {
          "output_type": "stream",
          "name": "stdout",
          "text": [
            "{'simo', 'loto', 'giorgia', 'poli', 7, 78}\n"
          ]
        }
      ]
    },
    {
      "cell_type": "markdown",
      "source": [
        "**rimuovere elementi**"
      ],
      "metadata": {
        "id": "nmSLQztWSq0U"
      }
    },
    {
      "cell_type": "code",
      "source": [
        "insieme8 = {\"pippo\", \"pluto\", \"paperino\", \"topolino\", \"ronaldo\", 45}\n",
        "print(insieme8)\n",
        "insieme8.remove(\"pippo\")\n",
        "print(insieme8)"
      ],
      "metadata": {
        "colab": {
          "base_uri": "https://localhost:8080/"
        },
        "id": "_AsAM1VPTrCU",
        "outputId": "8f577ba7-d5ca-471c-cf71-dbdb6118c671"
      },
      "execution_count": null,
      "outputs": [
        {
          "output_type": "stream",
          "name": "stdout",
          "text": [
            "{'paperino', 45, 'topolino', 'pippo', 'ronaldo', 'pluto'}\n",
            "{'paperino', 45, 'topolino', 'ronaldo', 'pluto'}\n"
          ]
        }
      ]
    },
    {
      "cell_type": "code",
      "source": [
        "#rimuovere un elemento usando discard()\n",
        "insieme8.discard(\"pippo\")\n",
        "print(insieme8)"
      ],
      "metadata": {
        "colab": {
          "base_uri": "https://localhost:8080/"
        },
        "id": "nVUgckN1VQpO",
        "outputId": "905ac9cc-6693-4808-9e65-289c485bd2b0"
      },
      "execution_count": null,
      "outputs": [
        {
          "output_type": "stream",
          "name": "stdout",
          "text": [
            "{'paperino', 45, 'topolino', 'ronaldo', 'pluto'}\n"
          ]
        }
      ]
    },
    {
      "cell_type": "code",
      "source": [
        "#rimuovere un elemento usando pop()\n",
        "#questo metodo elimina un elemento a caso dell'insieme dato che non si può inserire un indice all'interno del metodo\n",
        "x = insieme8.pop()\n",
        "print(x)\n",
        "print(insieme8)"
      ],
      "metadata": {
        "colab": {
          "base_uri": "https://localhost:8080/"
        },
        "id": "fsIP1-LvVgRm",
        "outputId": "1b3e349f-5dd9-4001-fe4b-dbf8fd3700c4"
      },
      "execution_count": null,
      "outputs": [
        {
          "output_type": "stream",
          "name": "stdout",
          "text": [
            "pluto\n",
            "set()\n"
          ]
        }
      ]
    },
    {
      "cell_type": "code",
      "source": [
        "insieme=set()\n",
        "print(type(insieme))"
      ],
      "metadata": {
        "colab": {
          "base_uri": "https://localhost:8080/"
        },
        "id": "biuvGm_7fxxR",
        "outputId": "58dd9c41-2158-4c38-8648-ce0c73c28d80"
      },
      "execution_count": null,
      "outputs": [
        {
          "output_type": "stream",
          "name": "stdout",
          "text": [
            "<class 'set'>\n"
          ]
        }
      ]
    },
    {
      "cell_type": "markdown",
      "source": [
        "svuotare completamente un insieme"
      ],
      "metadata": {
        "id": "U8eukE5uWlwW"
      }
    },
    {
      "cell_type": "code",
      "source": [
        "insieme8.clear()\n",
        "print(insieme8)"
      ],
      "metadata": {
        "colab": {
          "base_uri": "https://localhost:8080/"
        },
        "id": "deyHR2NNWotm",
        "outputId": "39e9ad79-9e09-457d-88ac-d6d6b8273fab"
      },
      "execution_count": null,
      "outputs": [
        {
          "output_type": "stream",
          "name": "stdout",
          "text": [
            "set()\n"
          ]
        }
      ]
    },
    {
      "cell_type": "code",
      "source": [
        "#altro metodo\n",
        "del insieme8"
      ],
      "metadata": {
        "id": "_V0Xu3pSWxVo"
      },
      "execution_count": null,
      "outputs": []
    },
    {
      "cell_type": "markdown",
      "source": [
        "**unire gli insiemi**"
      ],
      "metadata": {
        "id": "0d14oVVIZx7h"
      }
    },
    {
      "cell_type": "code",
      "source": [
        "#metodo union\n",
        "set1 = {1, 2, 3, 4, 5, 6,14}\n",
        "set2 = {10, 20, 30, 40}\n",
        "set4={12,13,14,15}\n",
        "set3 = set1.union(set2,set4)\n",
        "print(set3)"
      ],
      "metadata": {
        "colab": {
          "base_uri": "https://localhost:8080/"
        },
        "id": "Ue2mbGjpabd1",
        "outputId": "7a770ea6-4d6f-4139-bd3c-e810a02360f4"
      },
      "execution_count": null,
      "outputs": [
        {
          "output_type": "stream",
          "name": "stdout",
          "text": [
            "{1, 2, 3, 4, 5, 6, 40, 10, 12, 13, 14, 15, 20, 30}\n"
          ]
        }
      ]
    },
    {
      "cell_type": "code",
      "source": [
        "#metodo update\n",
        "set4 = {\"vittoria\", \"carlotta\", \"alice\"}\n",
        "set5 = {100, 200, 300}\n",
        "set4.update(set5)  #il metodo update aggiunge gli elementi di un insieme in un altro insieme\n",
        "print(set4)"
      ],
      "metadata": {
        "colab": {
          "base_uri": "https://localhost:8080/"
        },
        "id": "jnHuWDE3a7f_",
        "outputId": "233e9668-3d0d-4233-fff2-ecb1251ec225"
      },
      "execution_count": null,
      "outputs": [
        {
          "output_type": "stream",
          "name": "stdout",
          "text": [
            "{'carlotta', 'vittoria', 100, 'alice', 200, 300}\n"
          ]
        }
      ]
    },
    {
      "cell_type": "code",
      "source": [
        "#sia il metodo union e update escludono i duplicati"
      ],
      "metadata": {
        "id": "AFb8li18bae4"
      },
      "execution_count": null,
      "outputs": []
    },
    {
      "cell_type": "markdown",
      "source": [
        "salvare solo i valori duplicati in due insiemi"
      ],
      "metadata": {
        "id": "FKiewjpebeeN"
      }
    },
    {
      "cell_type": "code",
      "source": [
        "#intersection_update: salva in un insieme gli elementi duplicati che ci sono in entrambi gli insiemi (rimuove gli elementi che non presenti in altri insiemi)\n",
        "set6 = {\"ciao\", \"buongiorno\", \"buonasera\", \"arrivederci\"}\n",
        "set7 = {\"arrivederci\", \"buonasera\", 6, 80}\n",
        "set6.intersection_update(set7)\n",
        "print(set6)"
      ],
      "metadata": {
        "colab": {
          "base_uri": "https://localhost:8080/"
        },
        "id": "pCvd0WOwbnzh",
        "outputId": "db29e01a-a739-44c6-a65f-bb7d9de6df26"
      },
      "execution_count": null,
      "outputs": [
        {
          "output_type": "stream",
          "name": "stdout",
          "text": [
            "{'arrivederci', 'buonasera'}\n"
          ]
        }
      ]
    },
    {
      "cell_type": "code",
      "source": [
        "#intersection: crea e salva in un altro insieme gli elementi uguali in entrambi gli insiemi\n",
        "set8 = set6.intersection(set7)\n",
        "print(set8)"
      ],
      "metadata": {
        "colab": {
          "base_uri": "https://localhost:8080/"
        },
        "id": "NlQ7K_w-cSFs",
        "outputId": "db773700-795e-4dd1-ffe2-0912fbcb4e72"
      },
      "execution_count": null,
      "outputs": [
        {
          "output_type": "stream",
          "name": "stdout",
          "text": [
            "{'arrivederci', 'buonasera'}\n"
          ]
        }
      ]
    },
    {
      "cell_type": "markdown",
      "source": [
        "salvare i valori non duplicati in due insiemi"
      ],
      "metadata": {
        "id": "AtRQg06kcku7"
      }
    },
    {
      "cell_type": "code",
      "source": [
        "#symmetric_difference_update: salva in un insieme gli elementi non duplicati che ci sono in entrambi gli insiemi (inserisce gli elementi diversi da questo insieme e un altro ed elimina quelli comuni)\n",
        "set9 = {\"inter\", \"milan\", \"roma\", \"napoli\"}\n",
        "set10 = {\"inter\", \"roma\", 87, 123}\n",
        "set9.symmetric_difference_update(set10)\n",
        "print(set9)"
      ],
      "metadata": {
        "colab": {
          "base_uri": "https://localhost:8080/"
        },
        "id": "T0zshvpFcxFg",
        "outputId": "29c925c5-8f45-4cdc-e561-41d83df510d1"
      },
      "execution_count": null,
      "outputs": [
        {
          "output_type": "stream",
          "name": "stdout",
          "text": [
            "{'napoli', 87, 'milan', 123}\n"
          ]
        }
      ]
    },
    {
      "cell_type": "code",
      "source": [
        "#symmetric_difference: crea e salva in un altro insieme gli elementi non duplicati che sono presenti in due insiemi\n",
        "set9 = {\"inter\", \"milan\", \"roma\", \"napoli\"}\n",
        "set10 = {\"inter\", \"roma\", 87, 123}\n",
        "set11 = set9.symmetric_difference(set10)\n",
        "print(set11)"
      ],
      "metadata": {
        "colab": {
          "base_uri": "https://localhost:8080/"
        },
        "id": "UdZAalUwdZ9l",
        "outputId": "e583372a-51d9-40a9-ea0c-63bb03f5fc3d"
      },
      "execution_count": null,
      "outputs": [
        {
          "output_type": "stream",
          "name": "stdout",
          "text": [
            "{'napoli', 87, 123, 'milan'}\n"
          ]
        }
      ]
    },
    {
      "cell_type": "markdown",
      "source": [
        "**differenze tra gli insiemi e le liste**"
      ],
      "metadata": {
        "id": "KAn-5QFEhr7k"
      }
    },
    {
      "cell_type": "markdown",
      "source": [
        "Nelle liste si possono inserire degli elementi uguali, mentre negli insiemi no.\n"
      ],
      "metadata": {
        "id": "Ow-m8KCZhvz4"
      }
    },
    {
      "cell_type": "markdown",
      "source": [
        "Nelle liste si possono mostrare gli elementi di esse attraverso un'indice; questo non si può fare negli insiemi dato che gli elementi in un insieme sono disposti in maniera indefinita e non precisa."
      ],
      "metadata": {
        "id": "0X8-IrYXh4iX"
      }
    },
    {
      "cell_type": "markdown",
      "source": [
        "Nelle liste si possono aggiungere elementi tramite i metodi: append, extend e insert, mentre negli insiemi si usa il metodi add, update e union."
      ],
      "metadata": {
        "id": "keOLsc-Cideg"
      }
    },
    {
      "cell_type": "markdown",
      "source": [
        "I metodi pop e del, dove è necessario specificare l'indice dell'elemento che si vuole eliminare, negli insiemi hanno le corrispondenti funzioni: pop elimina un elemento a caso dell'insieme, mentre del elimina tutti gli elementi dell'insieme."
      ],
      "metadata": {
        "id": "Id9AXc3SjAOC"
      }
    },
    {
      "cell_type": "markdown",
      "source": [
        "**differenze tre gli insiemi e i tuples**"
      ],
      "metadata": {
        "id": "3ny66y5_o-mc"
      }
    },
    {
      "cell_type": "markdown",
      "source": [
        "Gli elementi dei tuples hanno un ordine preciso, quelli degli insiemi no."
      ],
      "metadata": {
        "id": "oZOGEWSwpC7j"
      }
    },
    {
      "cell_type": "markdown",
      "source": [
        "Gli elementi dei tuples hanno un'indice, quelli degli insiemi no."
      ],
      "metadata": {
        "id": "GLoFKDkApJ6E"
      }
    },
    {
      "cell_type": "markdown",
      "source": [
        "Nei tuples ci possono essere elementi uguali, negli insiemi no."
      ],
      "metadata": {
        "id": "oatXmrTapTRN"
      }
    },
    {
      "cell_type": "markdown",
      "source": [
        "Dopo aver creato un tuple non ci si possono aggiungere elementi, mentre negli insiemi si."
      ],
      "metadata": {
        "id": "vQbgk4FLqDrw"
      }
    },
    {
      "cell_type": "markdown",
      "source": [
        "#esercizi"
      ],
      "metadata": {
        "id": "jD6XDzjPg2sm"
      }
    },
    {
      "cell_type": "markdown",
      "source": [
        "inserire in una struttura dati adeguata gli elementi: 1, 4, 5, 6, 7, 10, 1, 4"
      ],
      "metadata": {
        "id": "_VYnRpwPg5f7"
      }
    },
    {
      "cell_type": "code",
      "source": [
        "#occhio ai duplicati\n",
        "insieme9=[1, 4, 5, 6, 7, 10, 1, 4]\n",
        "print(insieme9)"
      ],
      "metadata": {
        "id": "tElvlgAThKH1",
        "colab": {
          "base_uri": "https://localhost:8080/"
        },
        "outputId": "f56a2f42-3778-407b-9a25-5a22f4ac199d"
      },
      "execution_count": null,
      "outputs": [
        {
          "output_type": "stream",
          "name": "stdout",
          "text": [
            "[1, 4, 5, 6, 7, 10, 1, 4]\n"
          ]
        }
      ]
    },
    {
      "cell_type": "markdown",
      "source": [
        "creare un insieme che contenga: pizza, pasta, carne, pesce"
      ],
      "metadata": {
        "id": "nZp_EXmLhOcQ"
      }
    },
    {
      "cell_type": "code",
      "source": [
        "insieme10={\"pizza\",\"pasta\",\"carne\",\"pesce\"}"
      ],
      "metadata": {
        "id": "NTtg9Fkkhenp"
      },
      "execution_count": null,
      "outputs": []
    },
    {
      "cell_type": "markdown",
      "source": [
        "aggiungere alla lista adesso creata l'elemento: hamburger"
      ],
      "metadata": {
        "id": "s40Do4txhgEV"
      }
    },
    {
      "cell_type": "code",
      "source": [
        "insieme10.add(\"hamburger\")\n",
        "print(insieme10)"
      ],
      "metadata": {
        "id": "Pr0U95s-hqgx",
        "colab": {
          "base_uri": "https://localhost:8080/"
        },
        "outputId": "70845da0-97e3-4f72-dc13-7ea43ef855bb"
      },
      "execution_count": null,
      "outputs": [
        {
          "output_type": "stream",
          "name": "stdout",
          "text": [
            "{'pizza', 'carne', 'pesce', 'hamburger', 'pasta'}\n"
          ]
        }
      ]
    },
    {
      "cell_type": "markdown",
      "source": [
        "eliminare tutti gli elementi della lista creata"
      ],
      "metadata": {
        "id": "pafa-c8fhq6_"
      }
    },
    {
      "cell_type": "code",
      "source": [
        "insieme10.clear()\n",
        "print(insieme10)"
      ],
      "metadata": {
        "id": "TrnKDVOHkArP",
        "colab": {
          "base_uri": "https://localhost:8080/"
        },
        "outputId": "d1384143-0f6a-44cd-b0e6-d611ddcb4915"
      },
      "execution_count": null,
      "outputs": [
        {
          "output_type": "stream",
          "name": "stdout",
          "text": [
            "set()\n"
          ]
        }
      ]
    },
    {
      "cell_type": "markdown",
      "source": [
        "creare due insiemi con elementi a piacere, poi crearne un terzo con tutti gli elementi degli altri due insiemi"
      ],
      "metadata": {
        "id": "qm5Mx3ZRkA4G"
      }
    },
    {
      "cell_type": "code",
      "source": [],
      "metadata": {
        "id": "2k3IGN2MkYeb"
      },
      "execution_count": null,
      "outputs": []
    },
    {
      "cell_type": "markdown",
      "source": [
        "creare due insiemi in modo che ci siamo elementi comuni tra i due insiemi, poi crearne un terzo che contenga solo gli elementi uguali"
      ],
      "metadata": {
        "id": "xFhGxnTckYtj"
      }
    },
    {
      "cell_type": "code",
      "source": [],
      "metadata": {
        "id": "5tWPpao1kqKR"
      },
      "execution_count": null,
      "outputs": []
    },
    {
      "cell_type": "markdown",
      "source": [
        "inserire in una struttura dati adeguata 20 numeri casuali compresi tra 20 e 50 senza duplicati"
      ],
      "metadata": {
        "id": "a50ZTjTukqet"
      }
    },
    {
      "cell_type": "code",
      "source": [
        "#esercizio sbagliato\n",
        "import random\n",
        "insiemeCasuale = set()\n",
        "for i in range(20):\n",
        "  insiemeCasuale.add(random.randint(20, 50))\n",
        "print(insiemeCasuale)\n",
        "len(insiemeCasuale)"
      ],
      "metadata": {
        "colab": {
          "base_uri": "https://localhost:8080/"
        },
        "id": "GR2_FzpJk5pr",
        "outputId": "0eee6123-85da-452d-b4a0-8fd30e3a45fe"
      },
      "execution_count": null,
      "outputs": [
        {
          "output_type": "stream",
          "name": "stdout",
          "text": [
            "{34, 36, 37, 39, 40, 44, 46, 49, 50, 21, 22, 24, 28, 30}\n"
          ]
        },
        {
          "output_type": "execute_result",
          "data": {
            "text/plain": [
              "14"
            ]
          },
          "metadata": {},
          "execution_count": 84
        }
      ]
    },
    {
      "cell_type": "markdown",
      "source": [
        "correzione esercizio precedente"
      ],
      "metadata": {
        "id": "5JNV8Guslcex"
      }
    },
    {
      "cell_type": "code",
      "source": [
        "insiemeCasuale = set(random.sample(range(20,50),20))\n",
        "print(insiemeCasuale)\n",
        "len(insiemeCasuale)"
      ],
      "metadata": {
        "colab": {
          "base_uri": "https://localhost:8080/"
        },
        "id": "MBoaUekqlQMA",
        "outputId": "bce88d9a-f82e-4b01-a6a8-9bb00ff4a9ab"
      },
      "execution_count": null,
      "outputs": [
        {
          "output_type": "stream",
          "name": "stdout",
          "text": [
            "{21, 23, 24, 28, 29, 30, 31, 34, 35, 36, 38, 39, 40, 41, 42, 43, 44, 47, 48, 49}\n"
          ]
        },
        {
          "output_type": "execute_result",
          "data": {
            "text/plain": [
              "20"
            ]
          },
          "metadata": {},
          "execution_count": 95
        }
      ]
    },
    {
      "cell_type": "markdown",
      "source": [
        "caricare in una lista 20 numeri casuali tra 1 e 100 ed eliminarne i duplicati"
      ],
      "metadata": {
        "id": "gMPgGbDCj58u"
      }
    },
    {
      "cell_type": "code",
      "source": [
        "import random\n",
        "lista=list(set([random.randint(1,100) for i in range(20)]))\n",
        "print(type(lista),lista)"
      ],
      "metadata": {
        "colab": {
          "base_uri": "https://localhost:8080/"
        },
        "id": "uoXb4ncwkJFE",
        "outputId": "e0e7933f-4180-4e0d-ca64-e70a72b4278f"
      },
      "execution_count": null,
      "outputs": [
        {
          "output_type": "stream",
          "name": "stdout",
          "text": [
            "<class 'list'> [32, 65, 2, 66, 71, 8, 7, 74, 43, 11, 47, 17, 51, 84, 86, 88, 89, 57]\n"
          ]
        }
      ]
    }
  ]
}