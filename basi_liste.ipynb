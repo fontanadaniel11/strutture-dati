{
  "nbformat": 4,
  "nbformat_minor": 0,
  "metadata": {
    "colab": {
      "provenance": [],
      "include_colab_link": true
    },
    "kernelspec": {
      "name": "python3",
      "display_name": "Python 3"
    },
    "language_info": {
      "name": "python"
    }
  },
  "cells": [
    {
      "cell_type": "markdown",
      "metadata": {
        "id": "view-in-github",
        "colab_type": "text"
      },
      "source": [
        "<a href=\"https://colab.research.google.com/github/fontanadaniel11/strutture-dati/blob/main/basi_liste.ipynb\" target=\"_parent\"><img src=\"https://colab.research.google.com/assets/colab-badge.svg\" alt=\"Open In Colab\"/></a>"
      ]
    },
    {
      "cell_type": "markdown",
      "source": [
        "questo notebook contiene le informazioni fondamentali sulle liste"
      ],
      "metadata": {
        "id": "gjAEcRwCDcny"
      }
    },
    {
      "cell_type": "markdown",
      "source": [
        "1) inizializzare una lista"
      ],
      "metadata": {
        "id": "rIJ4Q6CxFJJB"
      }
    },
    {
      "cell_type": "code",
      "source": [
        "lista=[]"
      ],
      "metadata": {
        "id": "09dt2aHjHB_A"
      },
      "execution_count": null,
      "outputs": []
    },
    {
      "cell_type": "markdown",
      "source": [
        "2) inserimento elementi "
      ],
      "metadata": {
        "id": "qTnanzQAGiTr"
      }
    },
    {
      "cell_type": "code",
      "source": [
        "lista.extend([1,2,3,4,5,6,7,8,9])#aggiunge 9 elemnti alla fine della lista\n",
        "lista.append(10)#aggunge un elemento alla fine della lista\n",
        "lista.insert(2,20)#aggiunge 20 nella posizione 2\n"
      ],
      "metadata": {
        "id": "nNDAZ8-MHDzC"
      },
      "execution_count": null,
      "outputs": []
    },
    {
      "cell_type": "markdown",
      "source": [
        "3) visualizzare una lista"
      ],
      "metadata": {
        "id": "V8qMVmf7GiLs"
      }
    },
    {
      "cell_type": "code",
      "source": [
        "print(lista)"
      ],
      "metadata": {
        "colab": {
          "base_uri": "https://localhost:8080/"
        },
        "id": "j-Omey51HiJn",
        "outputId": "84f8dab2-fec0-427e-9060-83eb3e30fd7b"
      },
      "execution_count": null,
      "outputs": [
        {
          "output_type": "stream",
          "name": "stdout",
          "text": [
            "[1, 2, 20, 20, 3, 4, 5, 6, 7, 8, 9, 10, 1, 2, 3, 4, 5, 6, 7, 8, 9, 10]\n"
          ]
        }
      ]
    },
    {
      "cell_type": "markdown",
      "source": [
        "4) rimozione di un elemeto nella lista"
      ],
      "metadata": {
        "id": "xTy0_5AjGiEI"
      }
    },
    {
      "cell_type": "code",
      "source": [
        "lista.remove(20)#rimuove il primo 20 che trova\n",
        "lista=list(filter(20).__ne__,lista)#rimuove tutti i 20 che ci sono nella lista\n",
        "lista.pop(10)#rimuove l'elemento nella posizione 10\n",
        "del lista[10]#rimuove l'elemento nella posizione 10\n"
      ],
      "metadata": {
        "id": "kQ7S9jNcHncH"
      },
      "execution_count": null,
      "outputs": []
    },
    {
      "cell_type": "markdown",
      "source": [
        "5) aggiunta di un ellemento nella lista"
      ],
      "metadata": {
        "id": "9BffL0WoGh8a"
      }
    },
    {
      "cell_type": "code",
      "source": [
        "lista.extend([1,2,3,4,5,6,7,8,9])#aggiunge 9 elemnti alla fine della lista\n",
        "lista.append(10)#aggunge un elemento alla fine della lista\n",
        "lista.insert(2,20)#aggiunge 20 nella posizione 2"
      ],
      "metadata": {
        "id": "KvLwxd-nI8IX"
      },
      "execution_count": null,
      "outputs": []
    },
    {
      "cell_type": "markdown",
      "source": [
        "6) visualizzazzine di uno o più elementi nella lista"
      ],
      "metadata": {
        "id": "aA8zVEf9GhxA"
      }
    },
    {
      "cell_type": "code",
      "source": [
        "print(lista[2])#visualizza il 3 elemento essendo che il primo elemento e nella posizione 0\n",
        "print(lista[1:8])#visualizzA gli elemti dalla posizione 1 fino alla posizione 7\n",
        "print(lista[4:8:2])#visualizzA gli elemti dalla posizione 1 fino alla posizione 7 visualizzandone uno ogni 2\n",
        "print(lista[4:])#visualizza gli ementi a partire dal 4 al ultimo elemento della lista\n",
        "print(lista[:4])#visualizza gli ementi a partire dal primo elemento al 3° elemento della lista\n",
        "print(lista[::4])#prende tutti i nuemr di 4 a 4\n",
        "print(lista[-1])#visualizza l'ultimo elemento\n",
        "lista.index(10)#trova la posizione del primo 10 trovato"
      ],
      "metadata": {
        "colab": {
          "base_uri": "https://localhost:8080/"
        },
        "id": "fvy0S-D3I9pg",
        "outputId": "b57575c1-4fbd-471f-fea4-39777370a0f9"
      },
      "execution_count": null,
      "outputs": [
        {
          "output_type": "stream",
          "name": "stdout",
          "text": [
            "20\n"
          ]
        }
      ]
    },
    {
      "cell_type": "markdown",
      "source": [
        "7) trovare minimo e massimo in una lista "
      ],
      "metadata": {
        "id": "534oWE7jGgrG"
      }
    },
    {
      "cell_type": "code",
      "source": [
        "print(min(lista))\n",
        "print(max(lista))\n"
      ],
      "metadata": {
        "colab": {
          "base_uri": "https://localhost:8080/"
        },
        "id": "pobp5nCkK8yz",
        "outputId": "ae1c138e-e3ec-46e8-95c4-9e3665ca64bd"
      },
      "execution_count": null,
      "outputs": [
        {
          "output_type": "stream",
          "name": "stdout",
          "text": [
            "1\n",
            "20\n"
          ]
        }
      ]
    },
    {
      "cell_type": "markdown",
      "source": [
        "8) effettuare operazioni su elementi di una lista"
      ],
      "metadata": {
        "id": "J0U_cvh1Ggik"
      }
    },
    {
      "cell_type": "code",
      "source": [
        "sum(lista)#fa la somma di tutti gli elementi di una lista\n",
        "from statistics import mean\n",
        "mean(lista)#trova la media della lista\n",
        "len(lista)#trova la lungezza della lista\n"
      ],
      "metadata": {
        "colab": {
          "base_uri": "https://localhost:8080/"
        },
        "id": "_XPFEIP1L9qv",
        "outputId": "d527d316-4a6e-48e7-9871-3414da902801"
      },
      "execution_count": null,
      "outputs": [
        {
          "output_type": "execute_result",
          "data": {
            "text/plain": [
              "22"
            ]
          },
          "metadata": {},
          "execution_count": 17
        }
      ]
    },
    {
      "cell_type": "markdown",
      "source": [
        "9. ordinare elementi di una lista\n"
      ],
      "metadata": {
        "id": "vZvbDVgXGgOU"
      }
    },
    {
      "cell_type": "code",
      "source": [
        "lista.sort(reverse=True)#ordina gli elementi della lista dal piu grande al più piccolo poi avendo scritto reverse= True viene invertito\n",
        "\n",
        "print(lista)"
      ],
      "metadata": {
        "colab": {
          "base_uri": "https://localhost:8080/"
        },
        "id": "1zyMBRAbM9sz",
        "outputId": "3c0041a4-fc3c-40e8-f0cb-612df98da2ad"
      },
      "execution_count": null,
      "outputs": [
        {
          "output_type": "stream",
          "name": "stdout",
          "text": [
            "[20, 10, 9, 8, 7, 6, 5, 4, 3, 2, 1]\n"
          ]
        }
      ]
    },
    {
      "cell_type": "markdown",
      "source": [
        "10. controllo della presenza di u  elemento nella lista"
      ],
      "metadata": {
        "id": "BqPL60fuOK0i"
      }
    },
    {
      "cell_type": "code",
      "source": [
        "9 in lista#restittuisce true se il 9 e presente nella lisat, false se non e presente\n"
      ],
      "metadata": {
        "id": "oqKBJnqeOKBr"
      },
      "execution_count": null,
      "outputs": []
    }
  ]
}