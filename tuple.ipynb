{
  "nbformat": 4,
  "nbformat_minor": 0,
  "metadata": {
    "colab": {
      "provenance": [],
      "include_colab_link": true
    },
    "kernelspec": {
      "name": "python3",
      "display_name": "Python 3"
    },
    "language_info": {
      "name": "python"
    }
  },
  "cells": [
    {
      "cell_type": "markdown",
      "metadata": {
        "id": "view-in-github",
        "colab_type": "text"
      },
      "source": [
        "<a href=\"https://colab.research.google.com/github/fontanadaniel11/strutture-dati/blob/main/tuple.ipynb\" target=\"_parent\"><img src=\"https://colab.research.google.com/assets/colab-badge.svg\" alt=\"Open In Colab\"/></a>"
      ]
    },
    {
      "cell_type": "markdown",
      "source": [
        "Una tupla è una struttura dati ordinata e non modificabile.\n",
        "Si forma con le parentesi tonde"
      ],
      "metadata": {
        "id": "WlzLmIS0IjE-"
      }
    },
    {
      "cell_type": "code",
      "execution_count": null,
      "metadata": {
        "colab": {
          "base_uri": "https://localhost:8080/"
        },
        "id": "xrs6oTdqIhSZ",
        "outputId": "970ec4ba-ea90-459e-c2ed-4f92e1b0fafe"
      },
      "outputs": [
        {
          "output_type": "stream",
          "name": "stdout",
          "text": [
            "(1, 2, 3, 4, 5)\n"
          ]
        }
      ],
      "source": [
        "tupla1=(1,2,3,4,5)\n",
        "print(tupla1)"
      ]
    },
    {
      "cell_type": "markdown",
      "source": [
        "Gli elementi tuple sono ordinati, non modificabili e consentono valori duplicati. \n",
        "Sono indecizzate infatti il primo elemento della tuple ha valore di index \"0\""
      ],
      "metadata": {
        "id": "ipkJhBmCI_Nh"
      }
    },
    {
      "cell_type": "markdown",
      "source": [
        "Le tuple non sono modificabili, il che significa che non possiamo modificare, aggiungere o rimuovere elementi dopo che la tupla è stata creata."
      ],
      "metadata": {
        "id": "IwTzuVcvJVAO"
      }
    },
    {
      "cell_type": "markdown",
      "source": [
        "quindi se ci serisse un vettore non modificabile non useremmo list ma una tupla"
      ],
      "metadata": {
        "id": "xugJ-ADBOy_e"
      }
    },
    {
      "cell_type": "code",
      "source": [
        "tupla1.append(1) #non funziona perché non e modificabile"
      ],
      "metadata": {
        "id": "1LlJlKyiJVq7"
      },
      "execution_count": null,
      "outputs": []
    },
    {
      "cell_type": "markdown",
      "source": [
        "Per creare una tupla con un solo elemento, devi aggiungere una virgola dopo l'elemento"
      ],
      "metadata": {
        "id": "17w_dMJBJffa"
      }
    },
    {
      "cell_type": "code",
      "source": [
        "tupla2=(\"prova\",)\n",
        "print(type(tupla2))\n",
        "print(tupla2)\n",
        "tupla2=(\"prova\")\n",
        "print(type(tupla2))\n"
      ],
      "metadata": {
        "colab": {
          "base_uri": "https://localhost:8080/"
        },
        "id": "4GrFb8JrJkfd",
        "outputId": "caf093c8-8e6e-490d-d1be-6981309ba915"
      },
      "execution_count": null,
      "outputs": [
        {
          "output_type": "stream",
          "name": "stdout",
          "text": [
            "<class 'tuple'>\n",
            "('prova',)\n",
            "<class 'str'>\n"
          ]
        }
      ]
    },
    {
      "cell_type": "markdown",
      "source": [
        "puo cotenere tutti i tipi di dati, pure tutti insieme in ua sola tuple"
      ],
      "metadata": {
        "id": "3a8fc9BcJ2Kz"
      }
    },
    {
      "cell_type": "code",
      "source": [
        "tupla3=(\"ciao\", 1, True,2,\"hello\")\n",
        "print(tupla3)"
      ],
      "metadata": {
        "colab": {
          "base_uri": "https://localhost:8080/"
        },
        "id": "mhTnPFWrKCJU",
        "outputId": "6cf95d1a-7539-494f-e4b3-9fce433572d1"
      },
      "execution_count": null,
      "outputs": [
        {
          "output_type": "stream",
          "name": "stdout",
          "text": [
            "<class 'tuple'>\n",
            "('ciao', 1, True, 2, 'hello')\n"
          ]
        }
      ]
    },
    {
      "cell_type": "markdown",
      "source": [
        "si puo usare anche la funzione \"tuple()\" per crearne una "
      ],
      "metadata": {
        "id": "kR5O8doSKOyx"
      }
    },
    {
      "cell_type": "code",
      "source": [
        "pluto = [1, 0 ,2]\n",
        "prova=tuple(pluto)\n",
        "print(prova)\n",
        "print(pluto)\n",
        "pluto.extend([2])\n",
        "print(pluto)\n",
        "print(prova)"
      ],
      "metadata": {
        "colab": {
          "base_uri": "https://localhost:8080/"
        },
        "id": "uhSPoWKZKakf",
        "outputId": "b3fa8b91-7fde-4da6-81f5-72ca1123c6f1"
      },
      "execution_count": null,
      "outputs": [
        {
          "output_type": "stream",
          "name": "stdout",
          "text": [
            "(1, 0, 2)\n",
            "[1, 0, 2]\n",
            "[1, 0, 2, 2]\n",
            "(1, 0, 2)\n"
          ]
        }
      ]
    },
    {
      "cell_type": "markdown",
      "source": [
        "**esercizio**"
      ],
      "metadata": {
        "id": "ESPs7Z07KoZ7"
      }
    },
    {
      "cell_type": "markdown",
      "source": [
        "generare 20 numeri casuali non uguali tra 1 e 100, poi inserirli in una struttura dati adeguata che non sia modificabile."
      ],
      "metadata": {
        "id": "MkXAk5PwLajy"
      }
    },
    {
      "cell_type": "code",
      "source": [
        "import random \n",
        "lista0 = tuple(random.sample(range(1,100),20))\n",
        "print(lista0)"
      ],
      "metadata": {
        "id": "kFSkqCyMPIUe",
        "colab": {
          "base_uri": "https://localhost:8080/"
        },
        "outputId": "b32f3e82-9c51-4afb-9b87-af1e7b233e67"
      },
      "execution_count": null,
      "outputs": [
        {
          "output_type": "stream",
          "name": "stdout",
          "text": [
            "(67, 73, 82, 5, 17, 21, 16, 85, 68, 70, 9, 33, 79, 15, 22, 13, 56, 10, 65, 69)\n"
          ]
        }
      ]
    },
    {
      "cell_type": "markdown",
      "source": [
        "aggiungere i primi 3 cognomi della classe in posizioe 1 all precedente vettore"
      ],
      "metadata": {
        "id": "9XMr0Jm8Q9qK"
      }
    },
    {
      "cell_type": "code",
      "source": [
        "lista0 = list(lista0)\n",
        "lista0[0:0] = [\"avasiloae\", \"bernasconi\", \"cottone\"]\n",
        "lista0 = tuple(lista0)\n",
        "print(lista0)"
      ],
      "metadata": {
        "colab": {
          "base_uri": "https://localhost:8080/"
        },
        "id": "5VYarqbAUePu",
        "outputId": "cf6f4406-cfdc-4243-ccd0-9fd85e4ade1e"
      },
      "execution_count": null,
      "outputs": [
        {
          "output_type": "stream",
          "name": "stdout",
          "text": [
            "('avasiloae', 'bernasconi', 'cottone', 67, 73, 82, 5, 17, 21, 16, 85, 68, 70, 9, 33, 79, 15, 22, 13, 56, 10, 65, 69)\n"
          ]
        }
      ]
    }
  ]
}